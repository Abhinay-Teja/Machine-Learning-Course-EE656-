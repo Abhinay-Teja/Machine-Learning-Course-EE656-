{
 "cells": [
  {
   "cell_type": "markdown",
   "id": "1a5cd26d-d411-444f-b678-955ab7c22670",
   "metadata": {},
   "source": [
    "# ASSIGNMENT 2"
   ]
  },
  {
   "cell_type": "markdown",
   "id": "0595dd4b-feb1-4495-94b2-1967d42ab42a",
   "metadata": {},
   "source": [
    "#### Question 1"
   ]
  },
  {
   "cell_type": "code",
   "execution_count": 20,
   "id": "59951668-fc94-4bc9-8b7b-842130da338c",
   "metadata": {},
   "outputs": [
    {
     "name": "stdout",
     "output_type": "stream",
     "text": [
      "[[0, 5], [1, 4], [2, 6], [3, 6]]\n"
     ]
    }
   ],
   "source": [
    "import numpy as np\n",
    "\n",
    "a = np.array([1, 7, 3, 10, 14, 76,4])\n",
    "indices = []\n",
    "\n",
    "for p in a:\n",
    "    for q in a:\n",
    "        if p == q:\n",
    "            pass\n",
    "        else:\n",
    "            if (p+q) % 7 == 0:\n",
    "                for i in range(7):  # to append indices rather than numbers\n",
    "                    if a[i] == p:\n",
    "                        element1 = i\n",
    "                    if a[i] == q:\n",
    "                        element2 = i\n",
    "                indices.append([element1,element2])\n",
    "\n",
    "new_length = int(len(indices)/2) #reduces values that occur twice\n",
    "new_indices = []\n",
    "for k in range(new_length):\n",
    "    new_indices.append(indices[k])\n",
    "print(new_indices)\n"
   ]
  },
  {
   "cell_type": "markdown",
   "id": "7aab3683-cd8f-40d9-a687-c1ac696f8c6e",
   "metadata": {},
   "source": [
    "# "
   ]
  },
  {
   "cell_type": "markdown",
   "id": "229acbb3-6b7e-4f30-a7df-3551304f8db5",
   "metadata": {},
   "source": [
    "#### Question 2"
   ]
  },
  {
   "cell_type": "code",
   "execution_count": 21,
   "id": "0a94b8ba-413c-4cf6-9bf5-f0532a1e6408",
   "metadata": {},
   "outputs": [
    {
     "name": "stdout",
     "output_type": "stream",
     "text": [
      "Inverse:\n",
      "[[ 0.34883721 -0.13953488  0.09302326]\n",
      " [ 0.3255814   0.06976744 -0.04651163]\n",
      " [-0.27131783  0.10852713  0.03875969]]\n",
      "\n",
      "\n",
      "Dot Product\n",
      "[[ 0.86046512  1.1627907   1.46511628]\n",
      " [ 2.06976744  2.41860465  2.76744186]\n",
      " [-0.55813953 -0.68217054 -0.80620155]]\n",
      "\n",
      "\n",
      "Element wise Multiplication\n",
      "[[ 1.74418605 -0.8372093   0.65116279]\n",
      " [ 2.27906977  0.55813953 -0.41860465]\n",
      " [-0.27131783  0.21705426  0.11627907]]\n"
     ]
    }
   ],
   "source": [
    "import numpy as np\n",
    "A = np.array([[1, 2, 0],[0, 5, 6],[7, 0, 9]])\n",
    "B = np.array([[5, 6, 7],[7, 8, 9],[1, 2, 3]])\n",
    "\n",
    "A_inv = np.linalg.inv(A)\n",
    "Dot_with_B = np.dot(A_inv,B)\n",
    "element_wise_multiplication = A_inv * B\n",
    "\n",
    "print(\"Inverse:\")\n",
    "print(A_inv)\n",
    "print(\"\\n\"*1)\n",
    "print(\"Dot Product\")\n",
    "print(Dot_with_B)\n",
    "print(\"\\n\"*1)\n",
    "print(\"Element wise Multiplication\")\n",
    "print(element_wise_multiplication)"
   ]
  },
  {
   "cell_type": "markdown",
   "id": "6a08ad88-70ec-4c3c-a1f1-4aa119808bfe",
   "metadata": {},
   "source": [
    "# "
   ]
  },
  {
   "cell_type": "markdown",
   "id": "755e1123-2387-4508-a0f4-e13ff6ee909d",
   "metadata": {},
   "source": [
    "#### Question 3"
   ]
  },
  {
   "cell_type": "code",
   "execution_count": 22,
   "id": "78632a85-9d23-4147-a95f-0f0323a178a4",
   "metadata": {},
   "outputs": [
    {
     "name": "stdout",
     "output_type": "stream",
     "text": [
      "df:\n",
      "   A   B   C   D   E\n",
      "0  1   2   3   4   5\n",
      "1  1   8   2  10  11\n",
      "2  4   5   6   7   8\n",
      "3  7   8   9  10  11\n",
      "4  7  18  19  10  11\n",
      "\n",
      "\n",
      "\n",
      "First Two Rows:\n",
      "   A  B  C   D   E\n",
      "1  1  8  2  10  11\n",
      "0  1  2  3   4   5\n",
      "\n",
      "\n",
      "Last Two Rows:\n",
      "   A   B   C   D   E\n",
      "3  7   8   9  10  11\n",
      "4  7  18  19  10  11\n",
      "\n",
      "\n",
      "df2 Values as a Numpy array:\n",
      "[[ 1  8  2 10 11]\n",
      " [ 1  2  3  4  5]\n",
      " [ 4  5  6  7  8]\n",
      " [ 7  8  9 10 11]\n",
      " [ 7 18 19 10 11]]\n"
     ]
    }
   ],
   "source": [
    "import numpy as np\n",
    "import pandas as pd\n",
    "\n",
    "data = np.array([[1, 2, 3, 4, 5], [1, 8, 2, 10, 11], [4, 5, 6, 7, 8],\n",
    "[7, 8, 9, 10, 11], [7, 18, 19, 10, 11]])\n",
    "\n",
    "df = pd.DataFrame(data, columns = ['A','B','C','D','E'])\n",
    "print(\"df:\")\n",
    "print(df)\n",
    "print(\"\\n\"*2)\n",
    "\n",
    "df2 = df.sort_values(by=\"C\")\n",
    "\n",
    "print(\"First Two Rows:\")\n",
    "print(df2.head(2))\n",
    "print(\"\\n\"*1)\n",
    "\n",
    "print(\"Last Two Rows:\")\n",
    "print(df2.tail(2))\n",
    "print(\"\\n\"*1)\n",
    "\n",
    "print(\"df2 Values as a Numpy array:\")\n",
    "print(np.array(df2))"
   ]
  },
  {
   "cell_type": "markdown",
   "id": "693b4c81-d6da-42c2-892f-a83fb2c7d4bd",
   "metadata": {},
   "source": [
    "# "
   ]
  },
  {
   "cell_type": "markdown",
   "id": "9010b406-f545-4bc1-abd3-41dd76de580c",
   "metadata": {},
   "source": [
    "#### Question 4"
   ]
  },
  {
   "cell_type": "code",
   "execution_count": 23,
   "id": "e8d94d35-4797-4ef6-9102-2247a71b88e6",
   "metadata": {},
   "outputs": [
    {
     "name": "stdout",
     "output_type": "stream",
     "text": [
      "Eigen Values are:\n",
      "[10.5740355 +0.j          2.21298225+2.70229602j  2.21298225-2.70229602j]\n",
      "\n",
      "\n",
      "Spectral Radius:\n",
      "10.57403549813147\n"
     ]
    }
   ],
   "source": [
    "import numpy as np\n",
    "from numpy.ma.core import absolute\n",
    "\n",
    "A = np.array([[1, 2, 0],[0, 5, 6],[7, 0, 9]])\n",
    "\n",
    "eigenvalues, eigenvectors  = np.linalg.eig(A)\n",
    "print(\"Eigen Values are:\")\n",
    "print(eigenvalues)\n",
    "\n",
    "absolute_value = []\n",
    "for k in eigenvalues:\n",
    "    i = abs(k)\n",
    "    absolute_value.append(i)\n",
    "spectral_radius = max(absolute_value)\n",
    "print(\"\\n\"*1)\n",
    "print(\"Spectral Radius:\")\n",
    "print(spectral_radius)"
   ]
  },
  {
   "cell_type": "markdown",
   "id": "3e202a4c-26e1-49d0-b840-992127daf8df",
   "metadata": {},
   "source": [
    "# "
   ]
  },
  {
   "cell_type": "markdown",
   "id": "158ad09e-37b2-4260-adfc-8e72e37bfb5e",
   "metadata": {},
   "source": [
    "#### Question 5"
   ]
  },
  {
   "cell_type": "code",
   "execution_count": 24,
   "id": "af848ff3-4561-4346-b356-907a792fa20b",
   "metadata": {},
   "outputs": [
    {
     "name": "stdout",
     "output_type": "stream",
     "text": [
      "Boolean Result: True\n",
      "\n",
      "\n",
      "Spectral (2-norm) condition number: 1.2095847478372948e+16\n"
     ]
    }
   ],
   "source": [
    "import numpy as np\n",
    "B = np.array([[5, 6, 7],[7, 8, 9],[1, 2, 3]])\n",
    "\n",
    "U, S, Vt = np.linalg.svd(B, full_matrices=False)\n",
    "Sigma = np.diag(S) #Diagonalising 1D array S.\n",
    "\n",
    "B_recon = U @ Sigma @ Vt\n",
    "\n",
    "accuracy = np.allclose(B, B_recon, atol=1e-10)\n",
    "print(f\"Boolean Result: {accuracy}\")\n",
    "print(\"\\n\"*1)\n",
    "\n",
    "K2_B= (max(S)/min(S))\n",
    "print(f\"Spectral (2-norm) condition number: {K2_B}\")"
   ]
  }
 ],
 "metadata": {
  "kernelspec": {
   "display_name": "Python 3 (ipykernel)",
   "language": "python",
   "name": "python3"
  },
  "language_info": {
   "codemirror_mode": {
    "name": "ipython",
    "version": 3
   },
   "file_extension": ".py",
   "mimetype": "text/x-python",
   "name": "python",
   "nbconvert_exporter": "python",
   "pygments_lexer": "ipython3",
   "version": "3.13.2"
  }
 },
 "nbformat": 4,
 "nbformat_minor": 5
}
